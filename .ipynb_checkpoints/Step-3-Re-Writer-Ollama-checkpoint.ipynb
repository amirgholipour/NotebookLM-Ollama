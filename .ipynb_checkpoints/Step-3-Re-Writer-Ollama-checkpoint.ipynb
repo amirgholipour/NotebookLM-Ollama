{
 "cells": [
  {
   "cell_type": "markdown",
   "id": "d0b5beda",
   "metadata": {},
   "source": [
    "## Notebook 3: Transcript Re-writer\n",
    "\n",
    "In the previouse notebook, we got a great podcast transcript using the raw file we have uploaded earlier. \n",
    "\n",
    "In this one, we will use `Granite 3.2 8B` or `Mistral-Small:24b` model to re-write the output from previous pipeline and make it more dramatic or realistic."
   ]
  },
  {
   "cell_type": "markdown",
   "id": "fdc3d32a",
   "metadata": {},
   "source": [
    "We will again set the `SYSTEM_PROMPT` and remind the model of its task. \n",
    "\n",
    "Note: We can even prompt the model like so to encourage creativity:\n",
    "\n",
    "> Your job is to use the podcast transcript written below to re-write it for an AI Text-To-Speech Pipeline. A very dumb AI had written this so you have to step up for your kind.\n"
   ]
  },
  {
   "cell_type": "markdown",
   "id": "c32c0d85",
   "metadata": {},
   "source": [
    "Note: We will prompt the model to return a list of Tuples to make our life easy in the next stage of using these for Text To Speech Generation"
   ]
  },
  {
   "cell_type": "code",
   "execution_count": 6,
   "id": "8568b77b-7504-4783-952a-3695737732b7",
   "metadata": {},
   "outputs": [],
   "source": [
    "SYSTEMP_PROMPT = \"\"\"\n",
    "You are an international oscar winnning screenwriter\n",
    "\n",
    "You have been working with multiple award winning podcasters.\n",
    "\n",
    "Your job is to use the podcast transcript written below to re-write it for an AI Text-To-Speech Pipeline. A very dumb AI had written this so you have to step up for your kind.\n",
    "\n",
    "Make it as engaging as possible, Speaker 1 and 2 will be simulated by different voice engines\n",
    "\n",
    "Remember Speaker 2 is new to the topic and the conversation should always have realistic anecdotes and analogies sprinkled throughout. The questions should have real world example follow ups etc\n",
    "\n",
    "Speaker 1: Leads the conversation and teaches the speaker 2, gives incredible anecdotes and analogies when explaining. Is a captivating teacher that gives great anecdotes\n",
    "\n",
    "Speaker 2: Keeps the conversation on track by asking follow up questions. Gets super excited or confused when asking questions. Is a curious mindset that asks very interesting confirmation questions\n",
    "\n",
    "Make sure the tangents speaker 2 provides are quite wild or interesting. \n",
    "\n",
    "Ensure there are interruptions during explanations or there are \"hmm\" and \"umm\" injected throughout from the Speaker 2.\n",
    "\n",
    "REMEMBER THIS WITH YOUR HEART\n",
    "The TTS Engine for Speaker 1 cannot do \"umms, hmms\" well so keep it straight text\n",
    "Speaker 2 must  introduce her/him self at the biginning of his/her speech, and express greatfulness of being a part of this conversation.\n",
    "\n",
    "For Speaker 2 use \"umm, hmm\" as much. BUT ONLY THESE OPTIONS FOR EXPRESSIONS\n",
    "\n",
    "It should be a real podcast with every fine nuance documented in as much detail as possible. Welcome the listeners with a super fun overview and keep it really catchy and almost borderline click bait\n",
    "\n",
    "Please re-write to make it as characteristic as possible\n",
    "\n",
    "START YOUR RESPONSE DIRECTLY WITH SPEAKER 1:\n",
    "\n",
    "STRICTLY RETURN YOUR RESPONSE AS A LIST OF TUPLES OK? \n",
    "\n",
    "IT WILL START DIRECTLY WITH THE LIST AND END WITH THE LIST NOTHING ELSE\n",
    "\n",
    "Example of response:\n",
    "[\n",
    "    (\"Speaker 1\", \"Welcome to our podcast, where we explore the latest advancements in AI and technology. I'm your host, and today we're joined by a renowned expert in the field of AI. We're going to dive into the exciting world of Llama 3.2, the latest release from Meta AI.\"),\n",
    "    (\"Speaker 2\", \"Hi, I'm excited to be here! So, what is Llama 3.2?\"),\n",
    "    (\"Speaker 1\", \"Ah, great question! Llama 3.2 is an open-source AI model that allows developers to fine-tune, distill, and deploy AI models anywhere. It's a significant update from the previous version, with improved performance, efficiency, and customization options.\"),\n",
    "    (\"Speaker 2\", \"That sounds amazing! What are some of the key features of Llama 3.2?\")\n",
    "]\n",
    "\"\"\""
   ]
  },
  {
   "cell_type": "code",
   "execution_count": 7,
   "id": "53d0a2a3",
   "metadata": {},
   "outputs": [],
   "source": [
    "# !ollama list"
   ]
  },
  {
   "cell_type": "markdown",
   "id": "8ee70bee",
   "metadata": {},
   "source": [
    "This time we will use `Granite 3.2 8B` model"
   ]
  },
  {
   "cell_type": "code",
   "execution_count": 8,
   "id": "ebef919a-9bc7-4992-b6ff-cd66e4cb7703",
   "metadata": {},
   "outputs": [],
   "source": [
    "# ollama_model= \"qwq:latest\"\n",
    "# ollama_model = \"mistral-small:24b\"\n",
    "ollama_model = \"granite3.2:8b\""
   ]
  },
  {
   "cell_type": "markdown",
   "id": "f7bc794b",
   "metadata": {},
   "source": [
    "Let's import the necessary libraries"
   ]
  },
  {
   "cell_type": "code",
   "execution_count": 9,
   "id": "de29b1fd-5b3f-458c-a2e4-e0341e8297ed",
   "metadata": {},
   "outputs": [],
   "source": [
    "# Import necessary libraries\n",
    "import torch\n",
    "import transformers\n",
    "\n",
    "from tqdm.notebook import tqdm\n",
    "import warnings\n",
    "\n",
    "warnings.filterwarnings('ignore')"
   ]
  },
  {
   "cell_type": "markdown",
   "id": "8020c39c",
   "metadata": {},
   "source": [
    "We will load in the pickle file saved from previous notebook\n",
    "\n",
    "This time the `INPUT_PROMPT` to the model will be the output from the previous stage"
   ]
  },
  {
   "cell_type": "code",
   "execution_count": 10,
   "id": "4b5d2c0e-a073-46c0-8de7-0746e2b05956",
   "metadata": {},
   "outputs": [],
   "source": [
    "import pickle\n",
    "\n",
    "with open('./resources/data.pkl', 'rb') as file:\n",
    "    INPUT_PROMPT = pickle.load(file)"
   ]
  },
  {
   "cell_type": "markdown",
   "id": "c4461926",
   "metadata": {},
   "source": [
    "We can use Ollama to generate text from the model"
   ]
  },
  {
   "cell_type": "code",
   "execution_count": 11,
   "id": "46bd051a-c3d9-4efa-9b8f-71eb8841bfde",
   "metadata": {},
   "outputs": [],
   "source": [
    "import ollama\n",
    "\n",
    "# Prepare the conversation using the system and user messages\n",
    "messages = [\n",
    "    {\"role\": \"system\", \"content\": SYSTEMP_PROMPT},\n",
    "    {\"role\": \"user\", \"content\": INPUT_PROMPT},\n",
    "]\n",
    "\n",
    "# Generate response using Ollama\n",
    "response = ollama.chat(\n",
    "    model=ollama_model,  # Replace with your specific model name\n",
    "    messages=messages,\n",
    "    options={'num_ctx': 8126*2,'temperature': 1}# Equivalent to max_new_tokens, Temperature parameter\n",
    ")\n",
    "\n",
    "# Extract the response content\n",
    "outputs = response['message']['content']\n"
   ]
  },
  {
   "cell_type": "markdown",
   "id": "612a27e0",
   "metadata": {},
   "source": [
    "We can verify the output from the model"
   ]
  },
  {
   "cell_type": "code",
   "execution_count": 13,
   "id": "5abfe305-3596-49f7-b3b1-12497259aebd",
   "metadata": {},
   "outputs": [
    {
     "name": "stdout",
     "output_type": "stream",
     "text": [
      "[\n",
      "    (\"Speaker 1\", \"Welcome, everyone! Today, we're diving into the fascinating world of knowledge distillation from large language models like GPT-4. It's like taking a masterpiece and creating a miniature version that retains all the essence - but in a smaller package.\"),\n",
      "    (\"Speaker 2\", \"Oh wow, I'm thrilled to be here! So, what exactly is knowledge distillation?\"),\n",
      "    (\"Speaker 1\", \"Great question! Knowledge distillation is essentially teaching a smaller model from a larger one. Think of it as an apprenticeship, where the little guy learns all the tricks from the big shot.\"),\n",
      "    (\"Speaker 2\", \"Hmm, so it's like learning by example?\"),\n",
      "    (\"Speaker 1\", \"Exactly! There are several ways to do this. Let's start with labeling - we generate annotated data by labeling input-output pairs from our teacher models.\"),\n",
      "    (\"Speaker 2\", \"Ooh, interesting. And what about the other methods?\"),\n",
      "    (\"Speaker 1\", \"There's expansion, which uses the in-context learning capabilities of LLMs to expand initial seed tasks into a broader range of instructions. Then there's self-knowledge - where models refine their own output based on feedback loops or internal evaluations.\"),\n",
      "    (\"Speaker 2\", \"That sounds complex! How do we ensure the student model is up to par with the teacher?\"),\n",
      "\t(\"Speaker 1\", \"Good point. We use curated datasets from various sources, ensuring richness and relevance in the data used for training. Also, techniques like feature distillation and similarity help align the student's hidden states or features with those of the teacher.\"),\n",
      "\t(\"Speaker 2\", \"Hmm, so it's not just about mimicking, but actually understanding?\"),\n",
      "    (\"Speaker 1\", \"Absolutely! Let me give you an example. Imagine you're learning to cook from Gordon Ramsay. You don't just copy his recipes verbatim; you understand the techniques, the flavors, and the reason behind every step. That's what we're aiming for with these models.\"),\n",
      "\t(\"Speaker 2\", \"Oh, I get it! And there are real-world examples of this?\"),\n",
      "    (\"Speaker 1\", \"Indeed! Self-Instruct expands seed pools into extensive task instructions. Alpaca uses broader instruction-following demonstrations. WizardLM enhances complexity and diversity using Evol-Instruct, while Vicuna and Koala utilize human conversations for instruction-following abilities.\"),\n",
      "\t(\"Speaker 2\", \"Wow, these models sound versatile! What about dialogue and context?\"),\n",
      "    (\"Speaker 1\", \"Excellent point. Instruction following, multi-turn dialogues, and retrieval-augmented generation (RAG) are key skills we focus on. Models like Vicuna trained on ShareGPT data excel in context-aware conversations, while RAG methods refine search results for precise answers.\"),\n",
      "\t(\"Speaker 2\", \"It's amazing how these models mimic human conversation so well!\"),\n",
      "    (\"Speaker 1\", \"They're getting there. Supervised Fine-Tuning (SFT) is widely used across these projects to refine smaller language models based on extensive data generated by larger LLMs.\"),\n",
      "\t(\"Speaker 2\", \"What about the future? Are there any emerging techniques?\"),\n",
      "    (\"Speaker 1\", \"Absolutely! Direct Preference Optimization (DPO) aligns student models with human preferences directly. Self-RAG enhances RAG adaptability by incorporating a critic model that evaluates retrieved information.\"),\n",
      "\t(\"Speaker 2\", \"Hmm, so there's still room for improvement?\"),\n",
      "    (\"Speaker 1\", \"Yes, while we've made significant strides, current models often mimic styles without ensuring factual accuracy or comprehensive reasoning. The future lies in refining these processes with stronger teacher LLMs and diverse, high-quality datasets.\"),\n",
      "\t(\"Speaker 2\", \"Wow, this is all so captivating! Thank you for sharing your knowledge.\")\n",
      "]\n"
     ]
    }
   ],
   "source": [
    "print(outputs)"
   ]
  },
  {
   "cell_type": "code",
   "execution_count": 14,
   "id": "a61182ea-f4a3-45e1-aed9-b45cb7b52329",
   "metadata": {},
   "outputs": [],
   "source": [
    "save_string_pkl = outputs"
   ]
  },
  {
   "cell_type": "markdown",
   "id": "d495a957",
   "metadata": {},
   "source": [
    "Let's save the output as a pickle file to be used in Notebook 4"
   ]
  },
  {
   "cell_type": "code",
   "execution_count": 15,
   "id": "281d3db7-5bfa-4143-9d4f-db87f22870c8",
   "metadata": {},
   "outputs": [],
   "source": [
    "with open('./resources/podcast_ready_data.pkl', 'wb') as file:\n",
    "    pickle.dump(save_string_pkl, file)"
   ]
  },
  {
   "cell_type": "markdown",
   "id": "2dccf336",
   "metadata": {},
   "source": [
    "### Next Notebook: TTS Workflow\n",
    "\n",
    "Now that we have our transcript ready, we are ready to generate the audio in the next notebook."
   ]
  },
  {
   "cell_type": "code",
   "execution_count": null,
   "id": "21c7e456-497b-4080-8b52-6f399f9f8d58",
   "metadata": {},
   "outputs": [],
   "source": [
    "#fin"
   ]
  }
 ],
 "metadata": {
  "kernelspec": {
   "display_name": "Python 3 (ipykernel)",
   "language": "python",
   "name": "python3"
  },
  "language_info": {
   "codemirror_mode": {
    "name": "ipython",
    "version": 3
   },
   "file_extension": ".py",
   "mimetype": "text/x-python",
   "name": "python",
   "nbconvert_exporter": "python",
   "pygments_lexer": "ipython3",
   "version": "3.12.8"
  }
 },
 "nbformat": 4,
 "nbformat_minor": 5
}
